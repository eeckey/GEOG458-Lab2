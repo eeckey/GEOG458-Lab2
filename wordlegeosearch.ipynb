{
  "cells": [
    {
      "cell_type": "code",
      "execution_count": 1,
      "metadata": {
        "id": "EtnaSlH-wplB"
      },
      "outputs": [],
      "source": [
        "# created on Dec 24, 2020\n",
        "# modified on April 12, 2022\n",
        "# @author:          Bo Zhao\n",
        "# @email:           zhaobo@uw.edu\n",
        "# @website:         https://hgis.uw.edu\n",
        "# @organization:    Department of Geography, University of Washington, Seattle\n",
        "# @description:     Search geo-tagged tweets within the U.S. This script is modified from https://github.com/shawn-terryah/Twitter_Geolocation"
      ]
    },
    {
      "cell_type": "code",
      "execution_count": 2,
      "metadata": {
        "id": "f-bMdKMawxnQ",
        "colab": {
          "base_uri": "https://localhost:8080/"
        },
        "outputId": "00b92a33-ea9d-4757-8652-3a7a4f341f84"
      },
      "outputs": [
        {
          "output_type": "stream",
          "name": "stdout",
          "text": [
            "Drive already mounted at /gdrive; to attempt to forcibly remount, call drive.mount(\"/gdrive\", force_remount=True).\n"
          ]
        }
      ],
      "source": [
        "import tweepy, json, time\n",
        "import pandas as pd\n",
        "from google.colab import files\n",
        "# Create data on to Google Drive\n",
        "from google.colab import drive\n",
        "# Mount your Drive to the Colab VM.\n",
        "drive.mount('/gdrive')"
      ]
    },
    {
      "cell_type": "code",
      "execution_count": 3,
      "metadata": {
        "id": "dEyPts-ZwplE"
      },
      "outputs": [],
      "source": [
        "class StreamListener(tweepy.StreamListener):\n",
        "    \"\"\"tweepy.StreamListener is a class provided by tweepy used to access\n",
        "    the Twitter Streaming API to collect tweets in real-time.\n",
        "    \"\"\"\n",
        "\n",
        "    def __init__(self, time_limit=60, file=\"\"):\n",
        "        \"\"\"class initialization\"\"\"\n",
        "        self.start_time = time.time()\n",
        "        self.limit = time_limit\n",
        "        self.result = []\n",
        "        self.f = file\n",
        "        super(StreamListener, self).__init__()\n",
        "\n",
        "    def on_data(self, data):\n",
        "        \"\"\"This is called when data are streamed in.\"\"\"\n",
        "        if (time.time() - self.start_time) < self.limit:\n",
        "            datajson = json.loads(data)\n",
        "            # print(datajson, \"\\n\")\n",
        "            if 'id' not in datajson.keys():\n",
        "                time.sleep(10)\n",
        "            else:\n",
        "                id = datajson['id']\n",
        "                username = datajson['user']['screen_name']\n",
        "                created_at = datajson['created_at']\n",
        "                text = datajson['text'].strip().replace(\"\\n\", \"\")\n",
        "\n",
        "                # process the geo-tags\n",
        "                if datajson['coordinates'] == None:\n",
        "                    try:\n",
        "                        bbox = datajson['place']['bounding_box']['coordinates'][0]\n",
        "                        lng = (bbox[0][0] + bbox[2][0]) / 2.0\n",
        "                        lat = (bbox[0][1] + bbox[1][1]) / 2.0\n",
        "                    except:\n",
        "                        lat = 0\n",
        "                        lng = 0\n",
        "                else:\n",
        "                    lng = datajson['coordinates']['coordinates'][0]\n",
        "                    lat = datajson['coordinates']['coordinates'][1]\n",
        "\n",
        "                if lat != 0:\n",
        "                    row = {\n",
        "                        'id': id,\n",
        "                        'username': username,\n",
        "                        'created_at': created_at,\n",
        "                        'lng': lng,\n",
        "                        'lat': lat,\n",
        "                        'text': text\n",
        "                    }\n",
        "                    print(row)\n",
        "                    self.result.append(row)\n",
        "                else:\n",
        "                    pass\n",
        "        else:\n",
        "            df = pd.DataFrame(self.result)\n",
        "            df.to_csv(self.f, index=False)\n",
        "            # download the csv to your local computer\n",
        "            files.download(self.f)\n",
        "            print(\"the csv has been downloaded to your local computer. The program has been completed successfully.\")\n",
        "            return False"
      ]
    },
    {
      "cell_type": "code",
      "execution_count": 5,
      "metadata": {
        "id": "5Xzyo_OiwplG",
        "colab": {
          "base_uri": "https://localhost:8080/",
          "height": 573
        },
        "outputId": "cd733932-62f4-423e-da34-786107e8e7ba"
      },
      "outputs": [
        {
          "output_type": "stream",
          "name": "stdout",
          "text": [
            "{'id': 1514406660919410689, 'username': 'Sadiesmam', 'created_at': 'Thu Apr 14 00:54:18 +0000 2022', 'lng': -1.570206, 'lat': 55.1801545, 'text': '@SearlsDiane I have had a few hours kip tho. Wordle. Then back to sleep 😂'}\n",
            "{'id': 1514407195982458883, 'username': 'iamkimberlysoto', 'created_at': 'Thu Apr 14 00:56:26 +0000 2022', 'lng': -118.4119065, 'lat': 34.0207895, 'text': 'Wordle 298 5/6⬜\\U0001f7e8⬜⬜\\U0001f7e8\\U0001f7e9⬜⬜\\U0001f7e9⬜\\U0001f7e9⬜⬜\\U0001f7e9⬜\\U0001f7e9\\U0001f7e9⬜\\U0001f7e9⬜\\U0001f7e9\\U0001f7e9\\U0001f7e9\\U0001f7e9\\U0001f7e9'}\n",
            "{'id': 1514407536903872512, 'username': 'hellorosechan', 'created_at': 'Thu Apr 14 00:57:47 +0000 2022', 'lng': 97.6022205, 'lat': 1.262721, 'text': 'Wordle 299 4/6\\U0001f7e8\\U0001f7e9⬛⬛⬛⬛\\U0001f7e9\\U0001f7e9\\U0001f7e8⬛⬛\\U0001f7e9\\U0001f7e9\\U0001f7e9\\U0001f7e9\\U0001f7e9\\U0001f7e9\\U0001f7e9\\U0001f7e9\\U0001f7e9'}\n",
            "{'id': 1514407625462484992, 'username': 'iamkimberlysoto', 'created_at': 'Thu Apr 14 00:58:08 +0000 2022', 'lng': -118.4119065, 'lat': 34.0207895, 'text': 'Wordle (ES)  #97 6/6⬜⬜⬜\\U0001f7e8⬜⬜\\U0001f7e8⬜⬜⬜⬜⬜⬜⬜\\U0001f7e9⬜\\U0001f7e9\\U0001f7e9\\U0001f7e9\\U0001f7e9⬜\\U0001f7e9\\U0001f7e9\\U0001f7e9\\U0001f7e9\\U0001f7e9\\U0001f7e9\\U0001f7e9\\U0001f7e9\\U0001f7e9'}\n",
            "{'id': 1514407951242608643, 'username': 'chouinardphoto', 'created_at': 'Thu Apr 14 00:59:26 +0000 2022', 'lng': -82.472767, 'lat': 27.366617499999997, 'text': '@janicedillard Wordle 298 3/6⬛⬛⬛⬛⬛⬛⬛\\U0001f7e9⬛⬛\\U0001f7e9\\U0001f7e9\\U0001f7e9\\U0001f7e9\\U0001f7e9'}\n",
            "{'id': 1514408082981457927, 'username': 'saif_maskari', 'created_at': 'Thu Apr 14 00:59:57 +0000 2022', 'lng': 58.4641695, 'lat': 23.549159000000003, 'text': 'Wordle 299 6/6⬛⬛⬛\\U0001f7e8⬛⬛⬛\\U0001f7e8⬛\\U0001f7e9⬛⬛⬛⬛⬛⬛\\U0001f7e9⬛\\U0001f7e8⬛\\U0001f7e9\\U0001f7e9⬛⬛\\U0001f7e9\\U0001f7e9\\U0001f7e9\\U0001f7e9\\U0001f7e9\\U0001f7e9'}\n",
            "{'id': 1514408142263701508, 'username': 'HangBlaa', 'created_at': 'Thu Apr 14 01:00:12 +0000 2022', 'lng': -7.556151, 'lat': 52.150999, 'text': '@Lizziesaurus Well done Lizzie!  👍👍👍And SNAP!Wordle 299 3/6*⬜⬜⬜⬜\\U0001f7e9⬜⬜\\U0001f7e8\\U0001f7e8\\U0001f7e9\\U0001f7e9\\U0001f7e9\\U0001f7e9\\U0001f7e9\\U0001f7e9'}\n",
            "{'id': 1514408393364029449, 'username': 'mbknowsnothing', 'created_at': 'Thu Apr 14 01:01:11 +0000 2022', 'lng': 103.8369865, 'lat': 46.858024, 'text': 'Wordle 299 3/6*⬜⬜⬜⬜\\U0001f7e9⬜⬜⬜⬜\\U0001f7e9\\U0001f7e9\\U0001f7e9\\U0001f7e9\\U0001f7e9\\U0001f7e9Phew'}\n",
            "{'id': 1514409248104529922, 'username': 'schneiderjt38', 'created_at': 'Thu Apr 14 01:04:35 +0000 2022', 'lng': -89.2665075, 'lat': 39.7393005, 'text': 'Okay what the fuckWordle 298 5/6⬛⬛\\U0001f7e9\\U0001f7e9⬛⬛⬛\\U0001f7e9\\U0001f7e9⬛\\U0001f7e9⬛\\U0001f7e9\\U0001f7e9\\U0001f7e9\\U0001f7e9⬛\\U0001f7e9\\U0001f7e9\\U0001f7e9\\U0001f7e9\\U0001f7e9\\U0001f7e9\\U0001f7e9\\U0001f7e9'}\n",
            "{'id': 1514409248230240259, 'username': 'ChudamaniR', 'created_at': 'Thu Apr 14 01:04:35 +0000 2022', 'lng': 84.13302049999999, 'lat': 28.3908495, 'text': 'Wordle 299 4/6⬜⬜⬜⬜⬜\\U0001f7e8⬜\\U0001f7e8⬜⬜\\U0001f7e9\\U0001f7e8⬜\\U0001f7e8\\U0001f7e8\\U0001f7e9\\U0001f7e9\\U0001f7e9\\U0001f7e9\\U0001f7e9'}\n",
            "{'id': 1514409286637654023, 'username': 'faissl', 'created_at': 'Thu Apr 14 01:04:44 +0000 2022', 'lng': 31.570605999999998, 'lat': 29.596249, 'text': 'Wordle 299 3/6⬛⬛\\U0001f7e6⬛\\U0001f7e6⬛\\U0001f7e7\\U0001f7e6\\U0001f7e6⬛\\U0001f7e7\\U0001f7e7\\U0001f7e7\\U0001f7e7\\U0001f7e7'}\n",
            "{'id': 1514409316391927808, 'username': 'cTSElavie', 'created_at': 'Thu Apr 14 01:04:52 +0000 2022', 'lng': 120.7169575, 'lat': 14.2295265, 'text': 'Wordle 299 4/6*\\U0001f7e8\\U0001f7e8\\U0001f7e8⬛⬛⬛\\U0001f7e9\\U0001f7e9\\U0001f7e8⬛⬛\\U0001f7e9\\U0001f7e9⬛\\U0001f7e9\\U0001f7e9\\U0001f7e9\\U0001f7e9\\U0001f7e9\\U0001f7e9Garlic \\U0001f9c4'}\n",
            "{'id': 1514409603252981760, 'username': 'popephallicus', 'created_at': 'Thu Apr 14 01:06:00 +0000 2022', 'lng': -111.98582400000001, 'lat': 40.3445525, 'text': \"Please don't plow my field, and tell me pepto will helpWordle 298 3/6⬛⬛⬛⬛⬛⬛\\U0001f7e9⬛\\U0001f7e8⬛\\U0001f7e9\\U0001f7e9\\U0001f7e9\\U0001f7e9\\U0001f7e9\"}\n",
            "{'id': 1514410003058200585, 'username': 'wikamii', 'created_at': 'Thu Apr 14 01:07:35 +0000 2022', 'lng': 139.73951449999998, 'lat': 35.566894000000005, 'text': 'Wordle 299 6/6⬛\\U0001f7e9⬛⬛\\U0001f7e9⬛⬛⬛⬛⬛⬛⬛⬛⬛⬛⬛\\U0001f7e9⬛⬛\\U0001f7e9⬛\\U0001f7e9⬛⬛\\U0001f7e9\\U0001f7e9\\U0001f7e9\\U0001f7e9\\U0001f7e9\\U0001f7e9細切れにしてやるー'}\n",
            "{'id': 1514410725812412435, 'username': 'johnjniv', 'created_at': 'Thu Apr 14 01:10:28 +0000 2022', 'lng': -66.66657749999999, 'lat': 45.945462, 'text': 'That was a bit lucky! Wordle 298 3/6⬛⬛⬛⬛⬛⬛⬛⬛⬛\\U0001f7e8\\U0001f7e9\\U0001f7e9\\U0001f7e9\\U0001f7e9\\U0001f7e9'}\n",
            "{'id': 1514410829529362434, 'username': 'MonologxBleber', 'created_at': 'Thu Apr 14 01:10:52 +0000 2022', 'lng': 101.6846865, 'lat': 3.124524, 'text': 'Wordle 298 5/6⬛\\U0001f7e8⬛⬛⬛\\U0001f7e8\\U0001f7e8⬛⬛⬛⬛⬛⬛\\U0001f7e9⬛⬛⬛\\U0001f7e9\\U0001f7e9⬛\\U0001f7e9\\U0001f7e9\\U0001f7e9\\U0001f7e9\\U0001f7e9'}\n",
            "{'id': 1514410988841353219, 'username': 'SoyDramaCat', 'created_at': 'Thu Apr 14 01:11:30 +0000 2022', 'lng': -99.655676, 'lat': 19.284321499999997, 'text': 'Wordle (ES)  #97 5/6⬛\\U0001f7e8⬛⬛⬛⬛⬛\\U0001f7e9\\U0001f7e8⬛⬛\\U0001f7e9\\U0001f7e9\\U0001f7e8⬛⬛\\U0001f7e9\\U0001f7e9\\U0001f7e9\\U0001f7e9\\U0001f7e9\\U0001f7e9\\U0001f7e9\\U0001f7e9\\U0001f7e9 https://t.co/YJqG1xeNWsHola 👋'}\n",
            "{'id': 1514410991672389635, 'username': 'eraDc8r', 'created_at': 'Thu Apr 14 01:11:31 +0000 2022', 'lng': 121.0627355, 'lat': 14.683012, 'text': 'Wordle 299 4/6⬜⬜⬜⬜\\U0001f7e9⬜\\U0001f7e8⬜⬜\\U0001f7e9\\U0001f7e8⬜\\U0001f7e8\\U0001f7e8\\U0001f7e9\\U0001f7e9\\U0001f7e9\\U0001f7e9\\U0001f7e9\\U0001f7e9'}\n",
            "{'id': 1514411409479766026, 'username': 'nuriarm96', 'created_at': 'Thu Apr 14 01:13:11 +0000 2022', 'lng': -3.7035074999999997, 'lat': 40.4777945, 'text': 'RegulinchiWordle (ES)  #97 6/6⬜\\U0001f7e8⬜⬜⬜⬜⬜⬜⬜\\U0001f7e9⬜⬜⬜\\U0001f7e8\\U0001f7e9⬜\\U0001f7e9\\U0001f7e9\\U0001f7e9\\U0001f7e9⬜\\U0001f7e9\\U0001f7e9\\U0001f7e9\\U0001f7e9\\U0001f7e9\\U0001f7e9\\U0001f7e9\\U0001f7e9\\U0001f7e9 https://t.co/LCZrrsvQFi'}\n",
            "{'id': 1514411624693567489, 'username': 'Lesmitch529', 'created_at': 'Thu Apr 14 01:14:02 +0000 2022', 'lng': -121.469664, 'lat': 38.561722, 'text': \"@BerkeleyFog @califorleanian Shockingly, I went to bed before midnight and if Katie hadn't posted about disgracing… https://t.co/21j9STGmDb\"}\n",
            "{'id': 1514411715592855552, 'username': 'vikramsvishal', 'created_at': 'Thu Apr 14 01:14:24 +0000 2022', 'lng': 77.5584485, 'lat': 12.9231145, 'text': 'Wordle 299 3/6\\U0001f7e8⬜⬜\\U0001f7e8\\U0001f7e9⬜⬜⬜\\U0001f7e8⬜\\U0001f7e9\\U0001f7e9\\U0001f7e9\\U0001f7e9\\U0001f7e9'}\n",
            "{'id': 1514412227096416260, 'username': 'dadge', 'created_at': 'Thu Apr 14 01:16:26 +0000 2022', 'lng': -1.8906405, 'lat': 52.4939665, 'text': 'Wordle 299 2/6⬜⬜⬜⬜⬜\\U0001f7e9\\U0001f7e9\\U0001f7e9\\U0001f7e9\\U0001f7e9'}\n",
            "{'id': 1514412348819542016, 'username': 'andrew_cadorna', 'created_at': 'Thu Apr 14 01:16:55 +0000 2022', 'lng': 121.03130999999999, 'lat': 14.407883, 'text': 'Wordle 299 3/6⬛⬛\\U0001f7e8\\U0001f7e8⬛⬛\\U0001f7e8\\U0001f7e8⬛\\U0001f7e9\\U0001f7e9\\U0001f7e9\\U0001f7e9\\U0001f7e9\\U0001f7e9'}\n",
            "{'id': 1514412465072705536, 'username': 'Pezzamystic1', 'created_at': 'Thu Apr 14 01:17:22 +0000 2022', 'lng': 145.0531355, 'lat': -37.9725665, 'text': 'Wordle 299 3/6 Yum!⬜⬜⬜\\U0001f7e9\\U0001f7e9⬜⬜\\U0001f7e8\\U0001f7e9\\U0001f7e9\\U0001f7e9\\U0001f7e9\\U0001f7e9\\U0001f7e9\\U0001f7e9'}\n",
            "{'id': 1514413023573684228, 'username': 'WrexhamUSA', 'created_at': 'Thu Apr 14 01:19:35 +0000 2022', 'lng': -117.0226945, 'lat': 38.502147, 'text': '@DanWrexham Wordle 298 3/6⬜⬜⬜⬜⬜\\U0001f7e9\\U0001f7e9\\U0001f7e9⬜\\U0001f7e9\\U0001f7e9\\U0001f7e9\\U0001f7e9\\U0001f7e9\\U0001f7e9Was shocked how close my second guess was after my first 😂🤣 (yesterday for you!)'}\n",
            "{'id': 1514413418886823936, 'username': '2017thangavel', 'created_at': 'Thu Apr 14 01:21:10 +0000 2022', 'lng': 78.289703, 'lat': 10.818789500000001, 'text': 'Wordle 299 4/6⬜⬜⬜\\U0001f7e8⬜⬜⬜\\U0001f7e8\\U0001f7e8\\U0001f7e9⬜\\U0001f7e9\\U0001f7e9⬜\\U0001f7e9\\U0001f7e9\\U0001f7e9\\U0001f7e9\\U0001f7e9\\U0001f7e9'}\n",
            "{'id': 1514413419511922692, 'username': 'miguenavarro623', 'created_at': 'Thu Apr 14 01:21:10 +0000 2022', 'lng': -70.5525235, 'lat': -33.141947, 'text': 'Wordle (ES)  #97 5/6⬜\\U0001f7e8⬜⬜⬜⬜⬜⬜\\U0001f7e8⬜⬜⬜\\U0001f7e9\\U0001f7e9\\U0001f7e9⬜\\U0001f7e9\\U0001f7e9\\U0001f7e9\\U0001f7e9\\U0001f7e9\\U0001f7e9\\U0001f7e9\\U0001f7e9\\U0001f7e9 https://t.co/PjPQD8ume3'}\n",
            "{'id': 1514413424482177027, 'username': 'DerekPG69', 'created_at': 'Thu Apr 14 01:21:11 +0000 2022', 'lng': -2.669629, 'lat': 53.734336, 'text': 'Wordle 299 4/6⬛⬛⬛\\U0001f7e8⬛⬛\\U0001f7e9\\U0001f7e9⬛⬛⬛\\U0001f7e9\\U0001f7e9\\U0001f7e9⬛\\U0001f7e9\\U0001f7e9\\U0001f7e9\\U0001f7e9\\U0001f7e9'}\n"
          ]
        },
        {
          "output_type": "display_data",
          "data": {
            "text/plain": [
              "<IPython.core.display.Javascript object>"
            ],
            "application/javascript": [
              "\n",
              "    async function download(id, filename, size) {\n",
              "      if (!google.colab.kernel.accessAllowed) {\n",
              "        return;\n",
              "      }\n",
              "      const div = document.createElement('div');\n",
              "      const label = document.createElement('label');\n",
              "      label.textContent = `Downloading \"${filename}\": `;\n",
              "      div.appendChild(label);\n",
              "      const progress = document.createElement('progress');\n",
              "      progress.max = size;\n",
              "      div.appendChild(progress);\n",
              "      document.body.appendChild(div);\n",
              "\n",
              "      const buffers = [];\n",
              "      let downloaded = 0;\n",
              "\n",
              "      const channel = await google.colab.kernel.comms.open(id);\n",
              "      // Send a message to notify the kernel that we're ready.\n",
              "      channel.send({})\n",
              "\n",
              "      for await (const message of channel.messages) {\n",
              "        // Send a message to notify the kernel that we're ready.\n",
              "        channel.send({})\n",
              "        if (message.buffers) {\n",
              "          for (const buffer of message.buffers) {\n",
              "            buffers.push(buffer);\n",
              "            downloaded += buffer.byteLength;\n",
              "            progress.value = downloaded;\n",
              "          }\n",
              "        }\n",
              "      }\n",
              "      const blob = new Blob(buffers, {type: 'application/binary'});\n",
              "      const a = document.createElement('a');\n",
              "      a.href = window.URL.createObjectURL(blob);\n",
              "      a.download = filename;\n",
              "      div.appendChild(a);\n",
              "      a.click();\n",
              "      div.remove();\n",
              "    }\n",
              "  "
            ]
          },
          "metadata": {}
        },
        {
          "output_type": "display_data",
          "data": {
            "text/plain": [
              "<IPython.core.display.Javascript object>"
            ],
            "application/javascript": [
              "download(\"download_55ee740f-ba07-41eb-9769-d4bcf6cbab89\", \"geotweets5.csv\", 5417)"
            ]
          },
          "metadata": {}
        },
        {
          "output_type": "stream",
          "name": "stdout",
          "text": [
            "the csv has been downloaded to your local computer. The program has been completed successfully.\n"
          ]
        },
        {
          "output_type": "display_data",
          "data": {
            "text/plain": [
              "<IPython.core.display.Javascript object>"
            ],
            "application/javascript": [
              "\n",
              "    async function download(id, filename, size) {\n",
              "      if (!google.colab.kernel.accessAllowed) {\n",
              "        return;\n",
              "      }\n",
              "      const div = document.createElement('div');\n",
              "      const label = document.createElement('label');\n",
              "      label.textContent = `Downloading \"${filename}\": `;\n",
              "      div.appendChild(label);\n",
              "      const progress = document.createElement('progress');\n",
              "      progress.max = size;\n",
              "      div.appendChild(progress);\n",
              "      document.body.appendChild(div);\n",
              "\n",
              "      const buffers = [];\n",
              "      let downloaded = 0;\n",
              "\n",
              "      const channel = await google.colab.kernel.comms.open(id);\n",
              "      // Send a message to notify the kernel that we're ready.\n",
              "      channel.send({})\n",
              "\n",
              "      for await (const message of channel.messages) {\n",
              "        // Send a message to notify the kernel that we're ready.\n",
              "        channel.send({})\n",
              "        if (message.buffers) {\n",
              "          for (const buffer of message.buffers) {\n",
              "            buffers.push(buffer);\n",
              "            downloaded += buffer.byteLength;\n",
              "            progress.value = downloaded;\n",
              "          }\n",
              "        }\n",
              "      }\n",
              "      const blob = new Blob(buffers, {type: 'application/binary'});\n",
              "      const a = document.createElement('a');\n",
              "      a.href = window.URL.createObjectURL(blob);\n",
              "      a.download = filename;\n",
              "      div.appendChild(a);\n",
              "      a.click();\n",
              "      div.remove();\n",
              "    }\n",
              "  "
            ]
          },
          "metadata": {}
        },
        {
          "output_type": "display_data",
          "data": {
            "text/plain": [
              "<IPython.core.display.Javascript object>"
            ],
            "application/javascript": [
              "download(\"download_18ff7cd3-bc4e-4d7f-b888-c70e488349c2\", \"geotweets5.csv\", 5417)"
            ]
          },
          "metadata": {}
        },
        {
          "output_type": "stream",
          "name": "stdout",
          "text": [
            "the csv has been downloaded to your local computer. The program has been completed successfully.\n"
          ]
        }
      ],
      "source": [
        "if __name__ == \"__main__\":\n",
        "    # These are provided to you through the Twitter API after you create a account\n",
        "    # register a Twitter App to get the keys and access tokens.\n",
        "    output_file = '/gdrive/My Drive/geotweets.csv'\n",
        "\n",
        "    # Apply for your own Twitter API keys at https://developer.twitter.com/en/apply-for-access\n",
        "    consumer_key = \"Nld8R48NhaZNA3xA6TKNTWMD9\"\n",
        "    consumer_secret = \"zRHZ48ZHdBMqzISqQ2I1g5N24YNqMkoFX9JKPqbvYlYHtvCYbV\"\n",
        "    access_token = \"753351544787968001-7WJ9ByUZ3je66dWVUYUB8pdxo1QXISp\"\n",
        "    access_token_secret = \"kRiXu80YVnInLWyFqMHaRE7q3ndnkdQXYbDXVTcQJzcXy\"\n",
        "\n",
        "    myauth = tweepy.OAuthHandler(consumer_key, consumer_secret)\n",
        "    myauth.set_access_token(access_token, access_token_secret)\n",
        "\n",
        "    # LOCATIONS are the longitude, latitude coordinate corners for a box that restricts the\n",
        "    # geographic area from which you will stream tweets. The first two define the southwest\n",
        "    # corner of the box and the second two define the northeast corner of the box.\n",
        "    LOCATIONS = [-124.7771694, 24.520833, -66.947028, 49.384472,  # Contiguous US\n",
        "                 -164.639405, 58.806859, -144.152365, 71.76871,  # Alaska\n",
        "                 -160.161542, 18.776344, -154.641396, 22.878623]  # Hawaii\n",
        "\n",
        "    stream_listener = StreamListener(time_limit=1800, file=output_file)\n",
        "    stream = tweepy.Stream(auth=myauth, listener=stream_listener)\n",
        "    stream.filter(track=['wordle'])\n",
        "    stream.filter(locations=LOCATIONS, languages=['en'], encoding=\"utf-8\")"
      ]
    }
  ],
  "metadata": {
    "colab": {
      "collapsed_sections": [],
      "name": "Copy of 02_geosearch.ipynb",
      "provenance": []
    },
    "kernelspec": {
      "display_name": "Python 3",
      "language": "python",
      "name": "python3"
    },
    "language_info": {
      "codemirror_mode": {
        "name": "ipython",
        "version": 3
      },
      "file_extension": ".py",
      "mimetype": "text/x-python",
      "name": "python",
      "nbconvert_exporter": "python",
      "pygments_lexer": "ipython3",
      "version": "3.7.4"
    }
  },
  "nbformat": 4,
  "nbformat_minor": 0
}