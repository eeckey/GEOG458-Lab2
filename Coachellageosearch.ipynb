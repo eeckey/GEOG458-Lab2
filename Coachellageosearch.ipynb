{
  "cells": [
    {
      "cell_type": "code",
      "execution_count": 5,
      "metadata": {
        "id": "EtnaSlH-wplB"
      },
      "outputs": [],
      "source": [
        "# created on Dec 24, 2020\n",
        "# modified on April 12, 2022\n",
        "# @author:          Bo Zhao\n",
        "# @email:           zhaobo@uw.edu\n",
        "# @website:         https://hgis.uw.edu\n",
        "# @organization:    Department of Geography, University of Washington, Seattle\n",
        "# @description:     Search geo-tagged tweets within the U.S. This script is modified from https://github.com/shawn-terryah/Twitter_Geolocation"
      ]
    },
    {
      "cell_type": "code",
      "execution_count": 6,
      "metadata": {
        "id": "f-bMdKMawxnQ",
        "colab": {
          "base_uri": "https://localhost:8080/"
        },
        "outputId": "e64d839c-bc96-4d86-cfce-240b7976507f"
      },
      "outputs": [
        {
          "output_type": "stream",
          "name": "stdout",
          "text": [
            "Drive already mounted at /gdrive; to attempt to forcibly remount, call drive.mount(\"/gdrive\", force_remount=True).\n"
          ]
        }
      ],
      "source": [
        "import tweepy, json, time\n",
        "import pandas as pd\n",
        "from google.colab import files\n",
        "# Create data on to Google Drive\n",
        "from google.colab import drive\n",
        "# Mount your Drive to the Colab VM.\n",
        "drive.mount('/gdrive')"
      ]
    },
    {
      "cell_type": "code",
      "execution_count": 7,
      "metadata": {
        "id": "dEyPts-ZwplE"
      },
      "outputs": [],
      "source": [
        "class StreamListener(tweepy.StreamListener):\n",
        "    \"\"\"tweepy.StreamListener is a class provided by tweepy used to access\n",
        "    the Twitter Streaming API to collect tweets in real-time.\n",
        "    \"\"\"\n",
        "\n",
        "    def __init__(self, time_limit=60, file=\"\"):\n",
        "        \"\"\"class initialization\"\"\"\n",
        "        self.start_time = time.time()\n",
        "        self.limit = time_limit\n",
        "        self.result = []\n",
        "        self.f = file\n",
        "        super(StreamListener, self).__init__()\n",
        "\n",
        "    def on_data(self, data):\n",
        "        \"\"\"This is called when data are streamed in.\"\"\"\n",
        "        if (time.time() - self.start_time) < self.limit:\n",
        "            datajson = json.loads(data)\n",
        "            # print(datajson, \"\\n\")\n",
        "            if 'id' not in datajson.keys():\n",
        "                time.sleep(10)\n",
        "            else:\n",
        "                id = datajson['id']\n",
        "                username = datajson['user']['screen_name']\n",
        "                created_at = datajson['created_at']\n",
        "                text = datajson['text'].strip().replace(\"\\n\", \"\")\n",
        "\n",
        "                # process the geo-tags\n",
        "                if datajson['coordinates'] == None:\n",
        "                    try:\n",
        "                        bbox = datajson['place']['bounding_box']['coordinates'][0]\n",
        "                        lng = (bbox[0][0] + bbox[2][0]) / 2.0\n",
        "                        lat = (bbox[0][1] + bbox[1][1]) / 2.0\n",
        "                    except:\n",
        "                        lat = 0\n",
        "                        lng = 0\n",
        "                else:\n",
        "                    lng = datajson['coordinates']['coordinates'][0]\n",
        "                    lat = datajson['coordinates']['coordinates'][1]\n",
        "\n",
        "                if lat != 0:\n",
        "                    row = {\n",
        "                        'id': id,\n",
        "                        'username': username,\n",
        "                        'created_at': created_at,\n",
        "                        'lng': lng,\n",
        "                        'lat': lat,\n",
        "                        'text': text\n",
        "                    }\n",
        "                    print(row)\n",
        "                    self.result.append(row)\n",
        "                else:\n",
        "                    pass\n",
        "        else:\n",
        "            df = pd.DataFrame(self.result)\n",
        "            df.to_csv(self.f, index=False)\n",
        "            # download the csv to your local computer\n",
        "            files.download(self.f)\n",
        "            print(\"the csv has been downloaded to your local computer. The program has been completed successfully.\")\n",
        "            return False"
      ]
    },
    {
      "cell_type": "code",
      "execution_count": 8,
      "metadata": {
        "id": "5Xzyo_OiwplG",
        "colab": {
          "base_uri": "https://localhost:8080/",
          "height": 805
        },
        "outputId": "1f652d88-5e81-44cc-f331-9af6a958c717"
      },
      "outputs": [
        {
          "output_type": "stream",
          "name": "stdout",
          "text": [
            "{'id': 1515865268261634049, 'username': 'mettiws', 'created_at': 'Mon Apr 18 01:30:18 +0000 2022', 'lng': -47.261794, 'lat': -22.843815999999997, 'text': '@coachella @YouTube @GrupoFirme JUSTICE FOR KIM PETRAS#TRANSPHOBIAATCOACHELLA'}\n",
            "{'id': 1515865298385223685, 'username': 'daysalvador', 'created_at': 'Mon Apr 18 01:30:25 +0000 2022', 'lng': -59.9803255, 'lat': -2.572425, 'text': 'E a jade no Coachella…Independe desde os 13E a 🐎 👵🏿 🏊\\u200d♀️'}\n",
            "{'id': 1515865359101874181, 'username': 'emilybernay', 'created_at': 'Mon Apr 18 01:30:39 +0000 2022', 'lng': -73.9685415, 'lat': 40.780709, 'text': 'Jesus would never have risen if He knew some of you’d be at Coachella today'}\n",
            "{'id': 1515865473602269186, 'username': 'SHUNYA_t', 'created_at': 'Mon Apr 18 01:31:06 +0000 2022', 'lng': -116.21851, 'lat': 33.7203, 'text': 'Surreal Coachella Mainstage😭😭🇯🇵🇯🇵@kuma_power @88rising #coachella #88rising #宇多田ヒカル @ Coachella Music Festival https://t.co/IZUdeZmdgQ'}\n",
            "{'id': 1515865687109308417, 'username': 'dizaoinkyy', 'created_at': 'Mon Apr 18 01:31:57 +0000 2022', 'lng': 120.93383349999999, 'lat': 14.675515, 'text': 'Queens 🔥'}\n",
            "{'id': 1515865721049260037, 'username': 'LoganAPotter', 'created_at': 'Mon Apr 18 01:32:05 +0000 2022', 'lng': -119.30660750000001, 'lat': 37.2691755, 'text': '… a few more Coachella photos feat. @QuinnXCII, @AlecBenjamin &amp; @rolemodel https://t.co/Ziz8OmK6FI'}\n",
            "{'id': 1515865780935708676, 'username': 'bitetomlinson', 'created_at': 'Mon Apr 18 01:32:20 +0000 2022', 'lng': -2.23348, 'lat': 53.4569525, 'text': '@vhrrybillie é gravado do coachella, ta? https://t.co/N8zU13HYa3'}\n",
            "{'id': 1515865797125627911, 'username': 'helicarvalho_', 'created_at': 'Mon Apr 18 01:32:24 +0000 2022', 'lng': -48.45979749999999, 'lat': -1.2729295, 'text': '@pabllovittar @coachella Ferveeeeu'}\n",
            "{'id': 1515865822157148160, 'username': 'Itsyoualigatie', 'created_at': 'Mon Apr 18 01:32:30 +0000 2022', 'lng': 115.9891865, 'lat': -31.7728005, 'text': '@aligatie let’s goooooo #Coachella #Coachella2022 #CoachellaAliGatie on #GOBI 7:25 🔥\\U0001f90d🦋 #aligatie 🎶it’s you… https://t.co/KJJ28nkVgi'}\n",
            "{'id': 1515865833637089285, 'username': 'indira_remolina', 'created_at': 'Mon Apr 18 01:32:32 +0000 2022', 'lng': -73.8311875, 'lat': 40.6708795, 'text': '@DinamicasGteam Vela #Bichotella # Karol G #Coachella'}\n",
            "{'id': 1515865841035792384, 'username': 'Tumbaadientes', 'created_at': 'Mon Apr 18 01:32:34 +0000 2022', 'lng': -106.4174305, 'lat': 31.793368, 'text': \"If you were at Coachella and didn't see Zay..... I'm cancelling you.\"}\n",
            "{'id': 1515865846295699456, 'username': 'esejohnp', 'created_at': 'Mon Apr 18 01:32:35 +0000 2022', 'lng': -117.17357100000001, 'lat': 34.052873500000004, 'text': 'Sad but saw both y’all in Palm Springs 🔥🔥🔥🔥🔥🔥🔥🔥'}\n",
            "{'id': 1515865895872045058, 'username': 'altamaraa', 'created_at': 'Mon Apr 18 01:32:47 +0000 2022', 'lng': -116.5172895, 'lat': 33.8250795, 'text': '@sim1strauss'}\n",
            "{'id': 1515866038143004685, 'username': 'SLVTLVSTPPP', 'created_at': 'Mon Apr 18 01:33:21 +0000 2022', 'lng': -75.77004099999999, 'lat': 42.746617, 'text': 'Shouts to Coachella for realizing cartels also like festivals and can definitely afford all of the VIPS.'}\n",
            "{'id': 1515866096078782464, 'username': 'lmlookme', 'created_at': 'Mon Apr 18 01:33:35 +0000 2022', 'lng': 100.1115865, 'lat': 15.7113205, 'text': 'ดีจัง'}\n",
            "{'id': 1515866104454791169, 'username': 'carissaviel', 'created_at': 'Mon Apr 18 01:33:37 +0000 2022', 'lng': 120.9756555, 'lat': 14.712613, 'text': 'Sheesh Jackson! 😍'}\n",
            "{'id': 1515866153108885504, 'username': 'victtorandradde', 'created_at': 'Mon Apr 18 01:33:48 +0000 2022', 'lng': -43.441578, 'lat': -22.911421500000003, 'text': '@pabllovittar @coachella LENDA 💖'}\n",
            "{'id': 1515866272910749698, 'username': 'rachell0l', 'created_at': 'Mon Apr 18 01:34:17 +0000 2022', 'lng': -93.3613205, 'lat': 46.441860500000004, 'text': 'everyone go watch run the jewels coachella set right nowwww'}\n",
            "{'id': 1515866315281608709, 'username': 'peurusso', 'created_at': 'Mon Apr 18 01:34:27 +0000 2022', 'lng': -47.796623, 'lat': -15.776254, 'text': 'Mt ansioso pra assistir Anitta, Billie e Vittar no Coachella 💕'}\n",
            "{'id': 1515866345023619072, 'username': 'chou_ivy0617', 'created_at': 'Mon Apr 18 01:34:34 +0000 2022', 'lng': 120.9558625, 'lat': 24.2208365, 'text': '我很想看Coachella，但是我要跑pcr，至少讓我看到doja cat和the weeknd和joji'}\n",
            "{'id': 1515866358214365185, 'username': 'Itsyoualigatie', 'created_at': 'Mon Apr 18 01:34:37 +0000 2022', 'lng': 115.9891865, 'lat': -31.7728005, 'text': '@aligatie I can’t wait….. I’m soooo excited. I love you sooooo much Baby. #Coachella #Coachella2022 #aligatie @coachella'}\n",
            "{'id': 1515866384198213639, 'username': '_biIlienotjeane', 'created_at': 'Mon Apr 18 01:34:44 +0000 2022', 'lng': -87.9672925, 'lat': 43.0567225, 'text': 'The Coachella looks this year are soooo boring and bad'}\n",
            "{'id': 1515866396432941062, 'username': 'diegomitaz', 'created_at': 'Mon Apr 18 01:34:47 +0000 2022', 'lng': -73.9487755, 'lat': 40.655138, 'text': '@PopCrave She’s not performing and it’s the most relevant of Coachella'}\n",
            "{'id': 1515866532575956995, 'username': 'Hanslleey', 'created_at': 'Mon Apr 18 01:35:19 +0000 2022', 'lng': -42.784823, 'lat': -5.1863185000000005, 'text': 'Panic 🙃'}\n",
            "{'id': 1515866561856212993, 'username': 'JDEVOH', 'created_at': 'Mon Apr 18 01:35:26 +0000 2022', 'lng': -116.517221, 'lat': 33.85379, 'text': 'Happy Easter From Coachella 🐰 💪🏼 https://t.co/SF9gx5b4tc'}\n",
            "{'id': 1515866661789741057, 'username': 'tanyasanchez_', 'created_at': 'Mon Apr 18 01:35:50 +0000 2022', 'lng': -119.30660750000001, 'lat': 37.2691755, 'text': 'going to Vomit she’s so fucking fine'}\n",
            "{'id': 1515866688914399243, 'username': 'Heregeee', 'created_at': 'Mon Apr 18 01:35:56 +0000 2022', 'lng': -46.739266, 'lat': -23.377065, 'text': 'Tem uns mariates no coachella agora que parecem ser os Barões da Pisadinha do México.'}\n",
            "{'id': 1515866703376310272, 'username': 'carolynebfr', 'created_at': 'Mon Apr 18 01:36:00 +0000 2022', 'lng': -43.441578, 'lat': -22.911421500000003, 'text': 'MELHOR GIRLGROUP QUE JA EXISTIU eu amo voceeeesss 2ne111111'}\n",
            "{'id': 1515866741972234240, 'username': 'Noa_Drake', 'created_at': 'Mon Apr 18 01:36:09 +0000 2022', 'lng': -119.30660750000001, 'lat': 37.2691755, 'text': 'Purgatory is being forced to make content at Coachella.'}\n",
            "{'id': 1515866785240653831, 'username': 'pilottanparoket', 'created_at': 'Mon Apr 18 01:36:19 +0000 2022', 'lng': 110.34515350000001, 'lat': -7.7366150000000005, 'text': 'Toleransi ber agama yang dipupuk sejak masa sekolah kini dituangkan dalam sebuah lantunan lagu yang syahdu cocok un… https://t.co/A6JhPtBuVf'}\n",
            "{'id': 1515866801778872320, 'username': 'pirigeek_', 'created_at': 'Mon Apr 18 01:36:23 +0000 2022', 'lng': -46.5955455, 'lat': -23.682803, 'text': 'Socorro que a Billie carregou o show do Coachella com nada além de telões 🗣️'}\n",
            "{'id': 1515866855679922181, 'username': 'SweetButpxcol', 'created_at': 'Mon Apr 18 01:36:36 +0000 2022', 'lng': -49.2884605, 'lat': -25.4952495, 'text': 'Eu ver a Lana pertinho assim tenho ctz que eu desmaio ou morro'}\n",
            "{'id': 1515866865146339330, 'username': 'alteiiiya', 'created_at': 'Mon Apr 18 01:36:38 +0000 2022', 'lng': 125.399186, 'lat': 6.0412345, 'text': 'Gani iyang hairstyles jud pang out of this world hahaahahahahaha'}\n",
            "{'id': 1515866865972568072, 'username': 'aglailsonn', 'created_at': 'Mon Apr 18 01:36:38 +0000 2022', 'lng': -38.519890000000004, 'lat': -3.789768, 'text': 'A Juliette parece que tá falando com os amigos próx dela p eles ficarem até tarde com ela em uma festa kkkkkkkk'}\n",
            "{'id': 1515867033778356238, 'username': 'elizabethgcruz', 'created_at': 'Mon Apr 18 01:37:18 +0000 2022', 'lng': -118.4119065, 'lat': 34.0207895, 'text': 'watching the Coachella livestream and you did great @AlecBenjamin &lt;3'}\n",
            "{'id': 1515867067559428097, 'username': 'TayeHansberry', 'created_at': 'Mon Apr 18 01:37:27 +0000 2022', 'lng': -116.5279, 'lat': 33.8443, 'text': 'Coachella.. ZOEasis 1,2 or 3?  Way more to come.  @thezoereport Wearing @runawaythelabel top &amp; skirt… https://t.co/Y0EZdfDpmg'}\n",
            "{'id': 1515867369574477832, 'username': 'mallorysahobbit', 'created_at': 'Mon Apr 18 01:38:39 +0000 2022', 'lng': -95.44648649999999, 'lat': 29.838495, 'text': 'I met and saw @lights on Wednesday.#Utada AND #2NE1 played at Coachella this weekend. I have fully healed my inner… https://t.co/9uR8B77cGI'}\n",
            "{'id': 1515867373236068352, 'username': 'AhoyItsAJ', 'created_at': 'Mon Apr 18 01:38:39 +0000 2022', 'lng': -83.1738665, 'lat': 32.6782075, 'text': 'Y’all swing this shit?? They’re killing it. I don’t understand a god damn word but I love it'}\n",
            "{'id': 1515867382337929218, 'username': 'kopijobi', 'created_at': 'Mon Apr 18 01:38:42 +0000 2022', 'lng': 121.0627355, 'lat': 14.683012, 'text': 'Hope that coachella is ready for @bbrightvc too. Hehe. @millimdk you nailed it. All Asian acts nailed it. Always ri… https://t.co/CWwXxOYCSu'}\n",
            "{'id': 1515867451669590016, 'username': 'sidneyprescub', 'created_at': 'Mon Apr 18 01:38:58 +0000 2022', 'lng': -87.732013, 'lat': 41.8335845, 'text': 'Yoooo shut up! Billie Eilish did a cover of Feel Good Inc. at Coachella with the dude from The Gorillaz!?'}\n",
            "{'id': 1515867492211585028, 'username': 'GeekChiFu', 'created_at': 'Mon Apr 18 01:39:08 +0000 2022', 'lng': -118.4119065, 'lat': 34.0207895, 'text': '@EAustin1969 https://t.co/LEfPCscfyb'}\n",
            "{'id': 1515867666023596046, 'username': 'dimerostv', 'created_at': 'Mon Apr 18 01:39:49 +0000 2022', 'lng': -49.2884605, 'lat': -25.4952495, 'text': '@pabllovittar @coachella Foi incrível, HISTÓRICA!'}\n"
          ]
        },
        {
          "output_type": "display_data",
          "data": {
            "text/plain": [
              "<IPython.core.display.Javascript object>"
            ],
            "application/javascript": [
              "\n",
              "    async function download(id, filename, size) {\n",
              "      if (!google.colab.kernel.accessAllowed) {\n",
              "        return;\n",
              "      }\n",
              "      const div = document.createElement('div');\n",
              "      const label = document.createElement('label');\n",
              "      label.textContent = `Downloading \"${filename}\": `;\n",
              "      div.appendChild(label);\n",
              "      const progress = document.createElement('progress');\n",
              "      progress.max = size;\n",
              "      div.appendChild(progress);\n",
              "      document.body.appendChild(div);\n",
              "\n",
              "      const buffers = [];\n",
              "      let downloaded = 0;\n",
              "\n",
              "      const channel = await google.colab.kernel.comms.open(id);\n",
              "      // Send a message to notify the kernel that we're ready.\n",
              "      channel.send({})\n",
              "\n",
              "      for await (const message of channel.messages) {\n",
              "        // Send a message to notify the kernel that we're ready.\n",
              "        channel.send({})\n",
              "        if (message.buffers) {\n",
              "          for (const buffer of message.buffers) {\n",
              "            buffers.push(buffer);\n",
              "            downloaded += buffer.byteLength;\n",
              "            progress.value = downloaded;\n",
              "          }\n",
              "        }\n",
              "      }\n",
              "      const blob = new Blob(buffers, {type: 'application/binary'});\n",
              "      const a = document.createElement('a');\n",
              "      a.href = window.URL.createObjectURL(blob);\n",
              "      a.download = filename;\n",
              "      div.appendChild(a);\n",
              "      a.click();\n",
              "      div.remove();\n",
              "    }\n",
              "  "
            ]
          },
          "metadata": {}
        },
        {
          "output_type": "display_data",
          "data": {
            "text/plain": [
              "<IPython.core.display.Javascript object>"
            ],
            "application/javascript": [
              "download(\"download_a0d8668c-1ff9-40e8-b3c2-5d752fed7947\", \"geotweets10.csv\", 6968)"
            ]
          },
          "metadata": {}
        },
        {
          "output_type": "stream",
          "name": "stdout",
          "text": [
            "the csv has been downloaded to your local computer. The program has been completed successfully.\n"
          ]
        }
      ],
      "source": [
        "if __name__ == \"__main__\":\n",
        "    # These are provided to you through the Twitter API after you create a account\n",
        "    # register a Twitter App to get the keys and access tokens.\n",
        "    output_file = '/gdrive/My Drive/geotweets.csv'\n",
        "\n",
        "    # Apply for your own Twitter API keys at https://developer.twitter.com/en/apply-for-access\n",
        "    consumer_key = \"consumer_key\"\n",
        "    consumer_secret = \"consumer_secret\"\n",
        "    access_token = \"access_token\"\n",
        "    access_token_secret = \"access_token_secret\"\n",
        "\n",
        "    myauth = tweepy.OAuthHandler(consumer_key, consumer_secret)\n",
        "    myauth.set_access_token(access_token, access_token_secret)\n",
        "\n",
        "    # LOCATIONS are the longitude, latitude coordinate corners for a box that restricts the\n",
        "    # geographic area from which you will stream tweets. The first two define the southwest\n",
        "    # corner of the box and the second two define the northeast corner of the box.\n",
        "    # LOCATIONS = [-124.7771694, 24.520833, -66.947028, 49.384472,  # Contiguous US\n",
        "    #              -164.639405, 58.806859, -144.152365, 71.76871,  # Alaska\n",
        "    #              -160.161542, 18.776344, -154.641396, 22.878623]  # Hawaii\n",
        "\n",
        "    stream_listener = StreamListener(time_limit=600, file=output_file)\n",
        "    stream = tweepy.Stream(auth=myauth, listener=stream_listener)\n",
        "    # Filtered by the key word \"Coachella\"\n",
        "    stream.filter(track=['coachella'])\n",
        "    # stream.filter(locations=LOCATIONS, languages=['en'], encoding=\"utf-8\")"
      ]
    }
  ],
  "metadata": {
    "colab": {
      "collapsed_sections": [],
      "name": "Copy of 02_geosearch.ipynb",
      "provenance": []
    },
    "kernelspec": {
      "display_name": "Python 3",
      "language": "python",
      "name": "python3"
    },
    "language_info": {
      "codemirror_mode": {
        "name": "ipython",
        "version": 3
      },
      "file_extension": ".py",
      "mimetype": "text/x-python",
      "name": "python",
      "nbconvert_exporter": "python",
      "pygments_lexer": "ipython3",
      "version": "3.7.4"
    }
  },
  "nbformat": 4,
  "nbformat_minor": 0
}